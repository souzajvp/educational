{
  "nbformat": 4,
  "nbformat_minor": 0,
  "metadata": {
    "colab": {
      "name": "Preparando os dados para análise.ipynb",
      "provenance": [],
      "collapsed_sections": [],
      "mount_file_id": "1AhuHP1ySBTDiKSu8PUPhI983WFljLkKu",
      "authorship_tag": "ABX9TyMBqdW1UN3Rb578qdFtN1j6",
      "include_colab_link": true
    },
    "kernelspec": {
      "name": "python3",
      "display_name": "Python 3"
    },
    "language_info": {
      "name": "python"
    }
  },
  "cells": [
    {
      "cell_type": "markdown",
      "metadata": {
        "id": "view-in-github",
        "colab_type": "text"
      },
      "source": [
        "<a href=\"https://colab.research.google.com/github/souzajvp/educational/blob/main/An%C3%A1lises-geoespaciais/Primeiros-passos-geopandas/Preparando_os_dados_para_an%C3%A1lise.ipynb\" target=\"_parent\"><img src=\"https://colab.research.google.com/assets/colab-badge.svg\" alt=\"Open In Colab\"/></a>"
      ]
    },
    {
      "cell_type": "markdown",
      "metadata": {
        "id": "Xv-YxLzg3zQ-"
      },
      "source": [
        "Aqui faremos a preparação do conjunto de dados populacionais e de vacinação do paraná. Sendo assim, serão dois conjuntos:\n",
        "1. Informações sobre a vacinação contra COVID-19 no Brasil;\n",
        "2. População dos municípios do Paraná, segundo o senso de 2010."
      ]
    },
    {
      "cell_type": "markdown",
      "metadata": {
        "id": "X0YXbZLVU6Cx"
      },
      "source": [
        "1. Dados de vacinação de COVID-19, baixados no dia 17/07/2021 e disponibilizados no meu [GitHub](https://github.com/souzajvp/educational/tree/main/An%C3%A1lises-geoespaciais/Primeiros-passos-geopandas) - [Fonte](https://qsprod.saude.gov.br/extensions/DEMAS_C19Vacina/DEMAS_C19Vacina.html)"
      ]
    },
    {
      "cell_type": "code",
      "metadata": {
        "id": "qpGY0847WdLZ"
      },
      "source": [
        "import pandas as pd"
      ],
      "execution_count": 1,
      "outputs": []
    },
    {
      "cell_type": "code",
      "metadata": {
        "id": "jG_p1fKnKelW"
      },
      "source": [
        "url = 'https://github.com/souzajvp/educational/blob/main/An%C3%A1lises-geoespaciais/Primeiros-passos-geopandas/vacinacao_covid_17_07_2021.xlsx?raw=true'\n",
        "vac_covid = pd.read_excel(url)"
      ],
      "execution_count": 2,
      "outputs": []
    },
    {
      "cell_type": "markdown",
      "metadata": {
        "id": "LHg-XlyJMnqs"
      },
      "source": [
        "2. População dos municípios do Paraná de acordo com o Censo de 2010, extraídas do [TabNet](http://tabnet.datasus.gov.br/cgi/deftohtm.exe?ibge/cnv/poppr.def) (DATASUS) e disponibilizadas no meu [GitHub](https://github.com/souzajvp/educational/tree/main/An%C3%A1lises-geoespaciais/Primeiros-passos-geopandas)"
      ]
    },
    {
      "cell_type": "code",
      "metadata": {
        "id": "J3eUzSJz7hGr"
      },
      "source": [
        "url = 'https://raw.githubusercontent.com/souzajvp/teaching-python/main/pop_parana_2010.csv'\n",
        "pop_pr = pd.read_csv(url)"
      ],
      "execution_count": 3,
      "outputs": []
    },
    {
      "cell_type": "markdown",
      "metadata": {
        "id": "9H0lQTf3Y1ZP"
      },
      "source": [
        "## Trabalhando os dados de vacinação"
      ]
    },
    {
      "cell_type": "markdown",
      "metadata": {
        "id": "Y3JINjPNdcr4"
      },
      "source": [
        "Filtrando para o estado do PR"
      ]
    },
    {
      "cell_type": "code",
      "metadata": {
        "id": "HtFJe1XZdAvd"
      },
      "source": [
        "vac_covid = vac_covid[vac_covid['UF'] == 'PR']\n",
        "# Para alguns casos não há informação do Fabricante. Decidi remover\n",
        "vac_covid = vac_covid.query('Fabricante != \"-\"')"
      ],
      "execution_count": 4,
      "outputs": []
    },
    {
      "cell_type": "markdown",
      "metadata": {
        "id": "KPEMwBPbdfen"
      },
      "source": [
        "Como meu objetivo é obter o total de pessoas completamente vacinadas, vou filtrar o banco de vacinação de acordo com o fabricante \"JANSSEN\". Essa vacina é a única que tem o regime de dose única"
      ]
    },
    {
      "cell_type": "code",
      "metadata": {
        "id": "bTm7--OP9aJE"
      },
      "source": [
        "dose_unica = vac_covid.query('Fabricante == \"JANSSEN\"')\n",
        "dose_dupla = vac_covid.query('Fabricante != \"JANSSEN\"')"
      ],
      "execution_count": 5,
      "outputs": []
    },
    {
      "cell_type": "code",
      "metadata": {
        "colab": {
          "base_uri": "https://localhost:8080/"
        },
        "id": "skr_2jbl-IiP",
        "outputId": "528d039c-da75-4176-cde5-7d558d655ac1"
      },
      "source": [
        "# Aqui criei uma variável nova, que armazena a quantidade de doses aplicadas da vacina\n",
        "# da JANSSEN\n",
        "dose_unica['Doses_janssen'] = dose_unica['Doses Aplicadas']"
      ],
      "execution_count": 6,
      "outputs": [
        {
          "output_type": "stream",
          "text": [
            "/usr/local/lib/python3.7/dist-packages/ipykernel_launcher.py:3: SettingWithCopyWarning: \n",
            "A value is trying to be set on a copy of a slice from a DataFrame.\n",
            "Try using .loc[row_indexer,col_indexer] = value instead\n",
            "\n",
            "See the caveats in the documentation: https://pandas.pydata.org/pandas-docs/stable/user_guide/indexing.html#returning-a-view-versus-a-copy\n",
            "  This is separate from the ipykernel package so we can avoid doing imports until\n"
          ],
          "name": "stderr"
        }
      ]
    },
    {
      "cell_type": "markdown",
      "metadata": {
        "id": "AbHnxERPZZ1Z"
      },
      "source": [
        "Em seguida, posso agrupar e somar os dados de todas as outras vacinas de acordo com o município de aplicação.\n",
        "\n",
        "Assim, terei a quantidade de primeiras e segundas doses aplicadas para cada município brasileiro."
      ]
    },
    {
      "cell_type": "code",
      "metadata": {
        "id": "Pqg8o4mp9iKj"
      },
      "source": [
        "dose_dupla_mun = dose_dupla.groupby('Cód. IBGE').sum().reset_index()"
      ],
      "execution_count": 7,
      "outputs": []
    },
    {
      "cell_type": "markdown",
      "metadata": {
        "id": "KYo3zT_wZpmO"
      },
      "source": [
        "Para criar o conjunto de dados final de vacinação, vou usar o método `join` para agregar os dados de vacinação da Janssen de acordo com o município, sempre utilizando o Cód. IBGE como referência"
      ]
    },
    {
      "cell_type": "code",
      "metadata": {
        "id": "-KvysBkn-GVJ"
      },
      "source": [
        "vac_final = dose_dupla_mun.set_index('Cód. IBGE').join(dose_unica[['Cód. IBGE', 'Doses_janssen']].set_index('Cód. IBGE'))"
      ],
      "execution_count": 8,
      "outputs": []
    },
    {
      "cell_type": "markdown",
      "metadata": {
        "id": "YvYiw-80dyp_"
      },
      "source": [
        "Algumas cidades tem valor nulo para a vacina Janssen, para evitar problemas, vou preencher com 0"
      ]
    },
    {
      "cell_type": "code",
      "metadata": {
        "id": "JFEgAPwoe5ED"
      },
      "source": [
        "vac_final['Doses_janssen'].fillna(0, inplace=True)"
      ],
      "execution_count": 9,
      "outputs": []
    },
    {
      "cell_type": "code",
      "metadata": {
        "id": "jY6GhNH5-ope"
      },
      "source": [
        "vac_final['Imunizados'] = vac_final['Dose 2'] + vac_final['Doses_janssen']\n",
        "vac_final = vac_final.reset_index()"
      ],
      "execution_count": 10,
      "outputs": []
    },
    {
      "cell_type": "markdown",
      "metadata": {
        "id": "I6mBAt6rfFdh"
      },
      "source": [
        "Adicionando os dados populacionais aos dados de vacinação"
      ]
    },
    {
      "cell_type": "code",
      "metadata": {
        "id": "yhkq6TYGBTjq"
      },
      "source": [
        "vac_pr = pd.merge(vac_final, pop_pr, left_on='Cód. IBGE', right_on='ID_MUN_RES')"
      ],
      "execution_count": 11,
      "outputs": []
    },
    {
      "cell_type": "markdown",
      "metadata": {
        "id": "bW20jSLqfJH4"
      },
      "source": [
        "Agora, com as informações populacionais e vacinais, podemos calcular a porcentagem da população imunizada parcialmente e completamente"
      ]
    },
    {
      "cell_type": "code",
      "metadata": {
        "id": "EH1j49IeBiN2"
      },
      "source": [
        "vac_pr['P_Comp_Imun'] =  (vac_pr['Imunizados'] / vac_pr['POP_2010']) *100\n",
        "vac_pr['P_Parc_Imun'] =  (vac_pr['Dose 1'] / vac_pr['POP_2010']) *100"
      ],
      "execution_count": 12,
      "outputs": []
    },
    {
      "cell_type": "code",
      "metadata": {
        "id": "Cck8QYRODcCt"
      },
      "source": [
        "vac_pr['Cód. IBGE'] = vac_pr['Cód. IBGE'].astype(str)"
      ],
      "execution_count": 13,
      "outputs": []
    },
    {
      "cell_type": "markdown",
      "metadata": {
        "id": "7Lj-LvTWxDgr"
      },
      "source": [
        "Salvando o arquivo contendo dados populacionais e de vacinação do PR"
      ]
    },
    {
      "cell_type": "code",
      "metadata": {
        "id": "WPpJXT0nw7JG"
      },
      "source": [
        "vac_pr.to_csv('vacinacao_populacao_parana.csv',index=False)"
      ],
      "execution_count": 14,
      "outputs": []
    }
  ]
}